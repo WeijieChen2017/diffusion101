{
 "cells": [
  {
   "cell_type": "code",
   "execution_count": null,
   "metadata": {},
   "outputs": [],
   "source": [
    "import nibabel as nibabel"
   ]
  },
  {
   "cell_type": "code",
   "execution_count": null,
   "metadata": {},
   "outputs": [],
   "source": [
    "CT_filepath = \"../../James_data_v3/CTACIVV_256_norm/CTACIVV_E4055_norm.nii.gz\"\n",
    "bone_filepath = \"../../James_data_v3/mask_body_bone_E4055.nii.gz\"\n",
    "\n",
    "# load two and output the data shape\n",
    "\n"
   ]
  }
 ],
 "metadata": {
  "kernelspec": {
   "display_name": ".venv",
   "language": "python",
   "name": "python3"
  },
  "language_info": {
   "name": "python",
   "version": "3.9.6"
  }
 },
 "nbformat": 4,
 "nbformat_minor": 2
}
