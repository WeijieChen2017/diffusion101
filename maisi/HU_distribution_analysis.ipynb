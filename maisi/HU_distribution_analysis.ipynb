{
 "cells": [
  {
   "cell_type": "code",
   "execution_count": 5,
   "metadata": {},
   "outputs": [],
   "source": [
    "import nibabel as nibabel\n",
    "import numpy as np"
   ]
  },
  {
   "cell_type": "code",
   "execution_count": 6,
   "metadata": {},
   "outputs": [
    {
     "name": "stdout",
     "output_type": "stream",
     "text": [
      "(256, 256, 467)\n",
      "(256, 256, 467)\n"
     ]
    }
   ],
   "source": [
    "CT_filepath = \"../../James_data_v3/CTACIVV_256_norm/CTACIVV_E4055_norm.nii.gz\"\n",
    "bone_filepath = \"../../James_data_v3/mask_body_bone_E4055.nii.gz\"\n",
    "\n",
    "# load two and output the data shape\n",
    "CT_nii = nibabel.load(CT_filepath)\n",
    "bone_nii = nibabel.load(bone_filepath)\n",
    "\n",
    "CT_data = CT_nii.get_fdata()\n",
    "bone_data = bone_nii.get_fdata()\n",
    "\n",
    "print(CT_data.shape)\n",
    "print(bone_data.shape)\n"
   ]
  },
  {
   "cell_type": "code",
   "execution_count": 8,
   "metadata": {},
   "outputs": [
    {
     "name": "stdout",
     "output_type": "stream",
     "text": [
      "[0. 1.]\n",
      "0.37112223066159244\n",
      "0.0766250327324907\n"
     ]
    }
   ],
   "source": [
    "# bone is a mask, so it should be binary\n",
    "print(np.unique(bone_data))\n",
    "bone_binary = bone_data > 0.5\n",
    "\n",
    "# find all the bone voxels in the CT image\n",
    "bone_voxels = CT_data[bone_binary]\n",
    "# output the mean and std of the bone voxels\n",
    "print(np.mean(bone_voxels))\n",
    "print(np.std(bone_voxels))"
   ]
  },
  {
   "cell_type": "code",
   "execution_count": null,
   "metadata": {},
   "outputs": [],
   "source": []
  }
 ],
 "metadata": {
  "kernelspec": {
   "display_name": ".venv",
   "language": "python",
   "name": "python3"
  },
  "language_info": {
   "codemirror_mode": {
    "name": "ipython",
    "version": 3
   },
   "file_extension": ".py",
   "mimetype": "text/x-python",
   "name": "python",
   "nbconvert_exporter": "python",
   "pygments_lexer": "ipython3",
   "version": "3.9.6"
  }
 },
 "nbformat": 4,
 "nbformat_minor": 2
}
